{
 "cells": [
  {
   "cell_type": "code",
   "execution_count": null,
   "id": "dcef8012",
   "metadata": {},
   "outputs": [],
   "source": [
    "import string"
   ]
  },
  {
   "cell_type": "code",
   "execution_count": null,
   "id": "30f95f12",
   "metadata": {},
   "outputs": [],
   "source": [
    "from string import digits"
   ]
  },
  {
   "cell_type": "code",
   "execution_count": null,
   "id": "49243849",
   "metadata": {},
   "outputs": [],
   "source": [
    "from string import ascii_uppercase\n",
    "from string import ascii_lowercase\n"
   ]
  },
  {
   "cell_type": "code",
   "execution_count": null,
   "id": "014b1f71",
   "metadata": {},
   "outputs": [],
   "source": [
    "from string import punctuation"
   ]
  },
  {
   "cell_type": "code",
   "execution_count": null,
   "id": "08431065",
   "metadata": {},
   "outputs": [],
   "source": [
    "punctuation"
   ]
  },
  {
   "cell_type": "code",
   "execution_count": null,
   "id": "beac3e06",
   "metadata": {},
   "outputs": [],
   "source": [
    "data = {'name':'bernice', 'school':'buruburu', 'home':'Garia'}"
   ]
  },
  {
   "cell_type": "code",
   "execution_count": null,
   "id": "310b33a6",
   "metadata": {},
   "outputs": [],
   "source": [
    "data.items()"
   ]
  },
  {
   "cell_type": "code",
   "execution_count": null,
   "id": "253ef678",
   "metadata": {},
   "outputs": [],
   "source": [
    "data"
   ]
  },
  {
   "cell_type": "code",
   "execution_count": null,
   "id": "f30adf05",
   "metadata": {},
   "outputs": [],
   "source": [
    "def check_digits(char):\n",
    "    if char in digits:\n",
    "        return True\n",
    "    else:\n",
    "        return False\n",
    "def check_specialcase(char):\n",
    "    if char in punctuation:\n",
    "        return True\n",
    "    else:\n",
    "        return False\n",
    "def check_uppercase(char):\n",
    "    if char in ascii_uppercase:\n",
    "        return True\n",
    "    else:\n",
    "        return False\n",
    "def check_lowercase(char):\n",
    "    if char in ascii_lowercase:\n",
    "        return True\n",
    "    else:\n",
    "        return False\n",
    "    \n",
    "def validate_password_strength(password):\n",
    "    digit = False\n",
    "    special = False\n",
    "    upper = False\n",
    "    lower = False\n",
    "    for char in password:\n",
    "        if check_digits(char):\n",
    "            digit = True\n",
    "        else:\n",
    "            continue\n",
    "    for char in password:\n",
    "        if check_specialcase(char):\n",
    "            special = True\n",
    "        else:\n",
    "            continue\n",
    "    for char in password:\n",
    "        if check_uppercase(char):\n",
    "            upper = True\n",
    "        else:\n",
    "            continue\n",
    "    for char in password:\n",
    "        if check_lowercase(char):\n",
    "            lower = True\n",
    "        else:\n",
    "            continue\n",
    "            \n",
    "    if digit and special and upper and lower:\n",
    "        return True\n",
    "    else:\n",
    "        return False\n",
    "    \n",
    "            \n",
    "        \n",
    "    \n",
    "    "
   ]
  },
  {
   "cell_type": "code",
   "execution_count": null,
   "id": "7c578294",
   "metadata": {},
   "outputs": [],
   "source": [
    "validate_password_strength('Bernice23@')"
   ]
  },
  {
   "cell_type": "code",
   "execution_count": 5,
   "id": "768d6326",
   "metadata": {},
   "outputs": [],
   "source": [
    "from tools import SignUp, LoginUser, PasswordStrength"
   ]
  },
  {
   "cell_type": "code",
   "execution_count": 6,
   "id": "3dd23865",
   "metadata": {},
   "outputs": [],
   "source": [
    "user = SignUp('admin', 'admin@epos.com', 'admin', 'admin').create_user()"
   ]
  },
  {
   "cell_type": "code",
   "execution_count": null,
   "id": "a4317d50",
   "metadata": {},
   "outputs": [],
   "source": [
    "user"
   ]
  },
  {
   "cell_type": "code",
   "execution_count": null,
   "id": "e639fdcb",
   "metadata": {},
   "outputs": [],
   "source": [
    "log = LoginUser('admin', 'admin').login()"
   ]
  },
  {
   "cell_type": "code",
   "execution_count": 11,
   "id": "dca0dba4",
   "metadata": {},
   "outputs": [],
   "source": [
    "strong = PasswordStrength('Bernice@123')"
   ]
  },
  {
   "cell_type": "code",
   "execution_count": 12,
   "id": "1444fb52",
   "metadata": {},
   "outputs": [
    {
     "data": {
      "text/plain": [
       "True"
      ]
     },
     "execution_count": 12,
     "metadata": {},
     "output_type": "execute_result"
    }
   ],
   "source": [
    "strong.validate()"
   ]
  },
  {
   "cell_type": "code",
   "execution_count": null,
   "id": "deac6c1c",
   "metadata": {},
   "outputs": [],
   "source": []
  }
 ],
 "metadata": {
  "kernelspec": {
   "display_name": "Python 3 (ipykernel)",
   "language": "python",
   "name": "python3"
  },
  "language_info": {
   "codemirror_mode": {
    "name": "ipython",
    "version": 3
   },
   "file_extension": ".py",
   "mimetype": "text/x-python",
   "name": "python",
   "nbconvert_exporter": "python",
   "pygments_lexer": "ipython3",
   "version": "3.9.7"
  }
 },
 "nbformat": 4,
 "nbformat_minor": 5
}
