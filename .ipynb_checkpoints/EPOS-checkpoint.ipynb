{
 "cells": [
  {
   "cell_type": "code",
   "execution_count": 1,
   "id": "dcef8012",
   "metadata": {},
   "outputs": [],
   "source": [
    "import string"
   ]
  },
  {
   "cell_type": "code",
   "execution_count": 9,
   "id": "30f95f12",
   "metadata": {},
   "outputs": [],
   "source": [
    "from string import digits"
   ]
  },
  {
   "cell_type": "code",
   "execution_count": 10,
   "id": "49243849",
   "metadata": {},
   "outputs": [],
   "source": [
    "from string import ascii_uppercase\n",
    "from string import ascii_lowercase\n"
   ]
  },
  {
   "cell_type": "code",
   "execution_count": 11,
   "id": "b7eec902",
   "metadata": {},
   "outputs": [],
   "source": [
    "from string import punctuation"
   ]
  },
  {
   "cell_type": "code",
   "execution_count": 6,
   "id": "7cc1039d",
   "metadata": {},
   "outputs": [
    {
     "data": {
      "text/plain": [
       "'!\"#$%&\\'()*+,-./:;<=>?@[\\\\]^_`{|}~'"
      ]
     },
     "execution_count": 6,
     "metadata": {},
     "output_type": "execute_result"
    }
   ],
   "source": [
    "punctuation"
   ]
  },
  {
   "cell_type": "code",
   "execution_count": 4,
   "id": "beac3e06",
   "metadata": {},
   "outputs": [],
   "source": [
    "data = {'name':'bernice', 'school':'buruburu', 'home':'Garia'}"
   ]
  },
  {
   "cell_type": "code",
   "execution_count": 5,
   "id": "310b33a6",
   "metadata": {},
   "outputs": [
    {
     "data": {
      "text/plain": [
       "dict_items([('name', 'bernice'), ('school', 'buruburu'), ('home', 'Garia')])"
      ]
     },
     "execution_count": 5,
     "metadata": {},
     "output_type": "execute_result"
    }
   ],
   "source": [
    "data.items()"
   ]
  },
  {
   "cell_type": "code",
   "execution_count": 8,
   "id": "253ef678",
   "metadata": {},
   "outputs": [
    {
     "data": {
      "text/plain": [
       "dict_values"
      ]
     },
     "execution_count": 8,
     "metadata": {},
     "output_type": "execute_result"
    }
   ],
   "source": [
    "data"
   ]
  },
  {
   "cell_type": "code",
   "execution_count": 15,
   "id": "f30adf05",
   "metadata": {},
   "outputs": [],
   "source": [
    "def check_digits(char):\n",
    "    if char in digits:\n",
    "        return True\n",
    "    else:\n",
    "        return False\n",
    "def check_specialcase(char):\n",
    "    if char in punctuation:\n",
    "        return True\n",
    "    else:\n",
    "        return False\n",
    "def check_uppercase(char):\n",
    "    if char in ascii_uppercase:\n",
    "        return True\n",
    "    else:\n",
    "        return False\n",
    "def check_lowercase(char):\n",
    "    if char in ascii_lowercase:\n",
    "        return True\n",
    "    else:\n",
    "        return False\n",
    "    \n",
    "def validate_password_strength(password):\n",
    "    digit = False\n",
    "    special = False\n",
    "    upper = False\n",
    "    lower = False\n",
    "    for char in password:\n",
    "        if check_digits(char):\n",
    "            digit = True\n",
    "        else:\n",
    "            continue\n",
    "    for char in password:\n",
    "        if check_specialcase(char):\n",
    "            special = True\n",
    "        else:\n",
    "            continue\n",
    "    for char in password:\n",
    "        if check_uppercase(char):\n",
    "            upper = True\n",
    "        else:\n",
    "            continue\n",
    "    for char in password:\n",
    "        if check_lowercase(char):\n",
    "            lower = True\n",
    "        else:\n",
    "            continue\n",
    "            \n",
    "    if digit and special and upper and lower:\n",
    "        return True\n",
    "    else:\n",
    "        return False\n",
    "    \n",
    "            \n",
    "        \n",
    "    \n",
    "    "
   ]
  },
  {
   "cell_type": "code",
   "execution_count": 16,
   "id": "2e14c599",
   "metadata": {},
   "outputs": [
    {
     "ename": "NameError",
     "evalue": "name 'check_lower' is not defined",
     "output_type": "error",
     "traceback": [
      "\u001b[1;31m---------------------------------------------------------------------------\u001b[0m",
      "\u001b[1;31mNameError\u001b[0m                                 Traceback (most recent call last)",
      "\u001b[1;32m~\\AppData\\Local\\Temp/ipykernel_11748/3326637194.py\u001b[0m in \u001b[0;36m<module>\u001b[1;34m\u001b[0m\n\u001b[1;32m----> 1\u001b[1;33m \u001b[0mvalidate_password_strength\u001b[0m\u001b[1;33m(\u001b[0m\u001b[1;34m'bernice'\u001b[0m\u001b[1;33m)\u001b[0m\u001b[1;33m\u001b[0m\u001b[1;33m\u001b[0m\u001b[0m\n\u001b[0m",
      "\u001b[1;32m~\\AppData\\Local\\Temp/ipykernel_11748/1934042740.py\u001b[0m in \u001b[0;36mvalidate_password_strength\u001b[1;34m(password)\u001b[0m\n\u001b[0;32m     41\u001b[0m             \u001b[1;32mcontinue\u001b[0m\u001b[1;33m\u001b[0m\u001b[1;33m\u001b[0m\u001b[0m\n\u001b[0;32m     42\u001b[0m     \u001b[1;32mfor\u001b[0m \u001b[0mchar\u001b[0m \u001b[1;32min\u001b[0m \u001b[0mpassword\u001b[0m\u001b[1;33m:\u001b[0m\u001b[1;33m\u001b[0m\u001b[1;33m\u001b[0m\u001b[0m\n\u001b[1;32m---> 43\u001b[1;33m         \u001b[1;32mif\u001b[0m \u001b[0mcheck_lower\u001b[0m\u001b[1;33m(\u001b[0m\u001b[0mchar\u001b[0m\u001b[1;33m)\u001b[0m\u001b[1;33m:\u001b[0m\u001b[1;33m\u001b[0m\u001b[1;33m\u001b[0m\u001b[0m\n\u001b[0m\u001b[0;32m     44\u001b[0m             \u001b[0mlower\u001b[0m \u001b[1;33m=\u001b[0m \u001b[1;32mTrue\u001b[0m\u001b[1;33m\u001b[0m\u001b[1;33m\u001b[0m\u001b[0m\n\u001b[0;32m     45\u001b[0m         \u001b[1;32melse\u001b[0m\u001b[1;33m:\u001b[0m\u001b[1;33m\u001b[0m\u001b[1;33m\u001b[0m\u001b[0m\n",
      "\u001b[1;31mNameError\u001b[0m: name 'check_lower' is not defined"
     ]
    }
   ],
   "source": [
    "validate_password_strength('bernice')"
   ]
  },
  {
   "cell_type": "code",
   "execution_count": null,
   "id": "9854f3c6",
   "metadata": {},
   "outputs": [],
   "source": []
  }
 ],
 "metadata": {
  "kernelspec": {
   "display_name": "Python 3 (ipykernel)",
   "language": "python",
   "name": "python3"
  },
  "language_info": {
   "codemirror_mode": {
    "name": "ipython",
    "version": 3
   },
   "file_extension": ".py",
   "mimetype": "text/x-python",
   "name": "python",
   "nbconvert_exporter": "python",
   "pygments_lexer": "ipython3",
   "version": "3.9.7"
  }
 },
 "nbformat": 4,
 "nbformat_minor": 5
}
