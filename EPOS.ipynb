{
 "cells": [
  {
   "cell_type": "code",
   "execution_count": null,
   "id": "dcef8012",
   "metadata": {},
   "outputs": [],
   "source": [
    "import string"
   ]
  },
  {
   "cell_type": "code",
   "execution_count": null,
   "id": "30f95f12",
   "metadata": {},
   "outputs": [],
   "source": [
    "from string import digits"
   ]
  },
  {
   "cell_type": "code",
   "execution_count": null,
   "id": "49243849",
   "metadata": {},
   "outputs": [],
   "source": [
    "from string import ascii_uppercase\n",
    "from string import ascii_lowercase\n"
   ]
  },
  {
   "cell_type": "code",
   "execution_count": null,
   "id": "49063832",
   "metadata": {},
   "outputs": [],
   "source": [
    "from string import punctuation"
   ]
  },
  {
   "cell_type": "code",
   "execution_count": null,
   "id": "3d0ed31c",
   "metadata": {},
   "outputs": [],
   "source": [
    "punctuation"
   ]
  },
  {
   "cell_type": "code",
   "execution_count": null,
   "id": "beac3e06",
   "metadata": {},
   "outputs": [],
   "source": [
    "data = {'name':'bernice', 'school':'buruburu', 'home':'Garia'}"
   ]
  },
  {
   "cell_type": "code",
   "execution_count": null,
   "id": "310b33a6",
   "metadata": {},
   "outputs": [],
   "source": [
    "data.items()"
   ]
  },
  {
   "cell_type": "code",
   "execution_count": null,
   "id": "253ef678",
   "metadata": {},
   "outputs": [],
   "source": [
    "data"
   ]
  },
  {
   "cell_type": "code",
   "execution_count": null,
   "id": "f30adf05",
   "metadata": {},
   "outputs": [],
   "source": [
    "def check_digits(char):\n",
    "    if char in digits:\n",
    "        return True\n",
    "    else:\n",
    "        return False\n",
    "def check_specialcase(char):\n",
    "    if char in punctuation:\n",
    "        return True\n",
    "    else:\n",
    "        return False\n",
    "def check_uppercase(char):\n",
    "    if char in ascii_uppercase:\n",
    "        return True\n",
    "    else:\n",
    "        return False\n",
    "def check_lowercase(char):\n",
    "    if char in ascii_lowercase:\n",
    "        return True\n",
    "    else:\n",
    "        return False\n",
    "    \n",
    "def validate_password_strength(password):\n",
    "    digit = False\n",
    "    special = False\n",
    "    upper = False\n",
    "    lower = False\n",
    "    for char in password:\n",
    "        if check_digits(char):\n",
    "            digit = True\n",
    "        else:\n",
    "            continue\n",
    "    for char in password:\n",
    "        if check_specialcase(char):\n",
    "            special = True\n",
    "        else:\n",
    "            continue\n",
    "    for char in password:\n",
    "        if check_uppercase(char):\n",
    "            upper = True\n",
    "        else:\n",
    "            continue\n",
    "    for char in password:\n",
    "        if check_lowercase(char):\n",
    "            lower = True\n",
    "        else:\n",
    "            continue\n",
    "            \n",
    "    if digit and special and upper and lower:\n",
    "        return True\n",
    "    else:\n",
    "        return False\n",
    "    \n",
    "            \n",
    "        \n",
    "    \n",
    "    "
   ]
  },
  {
   "cell_type": "code",
   "execution_count": null,
   "id": "b37abbdb",
   "metadata": {},
   "outputs": [],
   "source": [
    "validate_password_strength('Bernice23@')"
   ]
  },
  {
   "cell_type": "code",
   "execution_count": null,
   "id": "caa3b813",
   "metadata": {},
   "outputs": [],
   "source": [
    "from tools import SignUp, LoginUser, PasswordStrength"
   ]
  },
  {
   "cell_type": "code",
   "execution_count": null,
   "id": "cad9baeb",
   "metadata": {},
   "outputs": [],
   "source": [
    "user = SignUp('admin', 'admin@epos.com', 'admin', 'admin').create_user()"
   ]
  },
  {
   "cell_type": "code",
   "execution_count": null,
   "id": "78637c03",
   "metadata": {},
   "outputs": [],
   "source": [
    "user"
   ]
  },
  {
   "cell_type": "code",
   "execution_count": null,
   "id": "92427a8a",
   "metadata": {},
   "outputs": [],
   "source": [
    "log = LoginUser('admin', 'admin').login()"
   ]
  },
  {
   "cell_type": "code",
   "execution_count": null,
   "id": "78dd6f73",
   "metadata": {},
   "outputs": [],
   "source": [
    "strong = PasswordStrength('Bernice@123')"
   ]
  },
  {
   "cell_type": "code",
   "execution_count": null,
   "id": "edfdbb9d",
   "metadata": {},
   "outputs": [],
   "source": [
    "strong.validate()"
   ]
  },
  {
   "cell_type": "code",
   "execution_count": null,
   "id": "58b84179",
   "metadata": {},
   "outputs": [],
   "source": [
    "import smtplib\n",
    "from email.message import EmailMessage\n",
    "def send_mail(to_email, subject, message, server='smtp.example.cn',\n",
    "              from_email='xx@example.com'):\n",
    "    # import smtplib\n",
    "    msg = EmailMessage()\n",
    "    msg['Subject'] = subject\n",
    "    msg['From'] = from_email\n",
    "    msg['To'] = ', '.join(to_email)\n",
    "    msg.set_content(message)\n",
    "    print(msg)\n",
    "    server = smtplib.SMTP(server)\n",
    "    server.set_debuglevel(1)\n",
    "    server.login(from_email, \"berniceong'ayo\")  # user & password\n",
    "    server.send_message(msg)\n",
    "    server.quit()\n",
    "    print('successfully sent the mail.')"
   ]
  },
  {
   "cell_type": "code",
   "execution_count": null,
   "id": "bdf445a7",
   "metadata": {},
   "outputs": [],
   "source": [
    "send_mail(to_email=['ambundotheseond@gmail.com'], subject='We are the bro', message='The long journet is almost done', from_email='ambundothesecond@yahoo.com')"
   ]
  },
  {
   "cell_type": "code",
   "execution_count": null,
   "id": "41b94398",
   "metadata": {},
   "outputs": [],
   "source": [
    "from datetime import date, datetime\n",
    "from time import time"
   ]
  },
  {
   "cell_type": "code",
   "execution_count": null,
   "id": "930f4fe6",
   "metadata": {},
   "outputs": [],
   "source": [
    "date.today().strftime('%d/%m/%Y')"
   ]
  },
  {
   "cell_type": "code",
   "execution_count": null,
   "id": "9ccc902b",
   "metadata": {},
   "outputs": [],
   "source": [
    "datetime.now().strftime('%H:%M:%S')"
   ]
  },
  {
   "cell_type": "code",
   "execution_count": null,
   "id": "e1ceb61d",
   "metadata": {},
   "outputs": [],
   "source": [
    "date = date2 - date1"
   ]
  },
  {
   "cell_type": "code",
   "execution_count": null,
   "id": "2bacfe6f",
   "metadata": {},
   "outputs": [],
   "source": [
    "from datetime import timedelta"
   ]
  },
  {
   "cell_type": "code",
   "execution_count": null,
   "id": "0689b5c4",
   "metadata": {},
   "outputs": [],
   "source": [
    "date.today().strftime('%H:%M:%S')"
   ]
  },
  {
   "cell_type": "code",
   "execution_count": null,
   "id": "3e0e1e75",
   "metadata": {},
   "outputs": [],
   "source": [
    "date.today() - timedelta(days=int(365/2))"
   ]
  },
  {
   "cell_type": "code",
   "execution_count": null,
   "id": "8fa16415",
   "metadata": {},
   "outputs": [],
   "source": [
    "past = date(2022,3,12)"
   ]
  },
  {
   "cell_type": "code",
   "execution_count": null,
   "id": "7adff1e8",
   "metadata": {},
   "outputs": [],
   "source": [
    "time_delta = past - date.today()"
   ]
  },
  {
   "cell_type": "code",
   "execution_count": null,
   "id": "335fa437",
   "metadata": {},
   "outputs": [],
   "source": [
    "days = abs(time_delta.days)\n",
    "for d in range(0, days+1):\n",
    "    current = past+timedelta(days=d)\n",
    "    print(current)"
   ]
  },
  {
   "cell_type": "code",
   "execution_count": null,
   "id": "5e7b35ca",
   "metadata": {},
   "outputs": [],
   "source": [
    "start_date = past\n",
    "stop_date = date.today()\n",
    "if start_date < stop_date:\n",
    "    print('Start with stop date')\n",
    "else:\n",
    "    print('reverse the date')"
   ]
  },
  {
   "cell_type": "code",
   "execution_count": null,
   "id": "751aac92",
   "metadata": {},
   "outputs": [],
   "source": [
    "items = ['apples', 'mango', 'pear', 'orange', 'pawpaw']\n",
    "prices = [50, 20, 40, 15, 25]\n",
    "quantity = [2, 10, 5, 17, 3]"
   ]
  },
  {
   "cell_type": "code",
   "execution_count": null,
   "id": "993e5e17",
   "metadata": {},
   "outputs": [],
   "source": [
    "for item, price, qty in zip(items, prices, quantity):\n",
    "    print(item, price, qty)"
   ]
  },
  {
   "cell_type": "code",
   "execution_count": null,
   "id": "189a5822",
   "metadata": {},
   "outputs": [],
   "source": [
    "class Logger:\n",
    "    def __init__(self, date):\n",
    "        self.date = date\n",
    "    def log(self):\n",
    "        return self.date\n",
    "    def __call__(self):\n",
    "        return self.date\n",
    "    def __str__(self):\n",
    "        return self.date"
   ]
  },
  {
   "cell_type": "code",
   "execution_count": null,
   "id": "0f783e27",
   "metadata": {},
   "outputs": [],
   "source": [
    "log = Logger('23/4/2023')\n",
    "log()"
   ]
  },
  {
   "cell_type": "code",
   "execution_count": null,
   "id": "449a3041",
   "metadata": {},
   "outputs": [],
   "source": [
    "from tools import users\n",
    "from model import User"
   ]
  },
  {
   "cell_type": "code",
   "execution_count": null,
   "id": "0d53966c",
   "metadata": {},
   "outputs": [],
   "source": [
    "user = User(username='boaboa', password='boaboa')"
   ]
  },
  {
   "cell_type": "code",
   "execution_count": null,
   "id": "f88b3be1",
   "metadata": {},
   "outputs": [],
   "source": [
    "from tools import session"
   ]
  },
  {
   "cell_type": "code",
   "execution_count": null,
   "id": "ec3fcd88",
   "metadata": {},
   "outputs": [],
   "source": [
    "session.add(user)"
   ]
  },
  {
   "cell_type": "code",
   "execution_count": null,
   "id": "88216dc5",
   "metadata": {},
   "outputs": [],
   "source": [
    "from time import time"
   ]
  },
  {
   "cell_type": "code",
   "execution_count": 4,
   "id": "9d30147d",
   "metadata": {},
   "outputs": [],
   "source": [
    " from tools import SignUp"
   ]
  },
  {
   "cell_type": "code",
   "execution_count": null,
   "id": "79c1979a",
   "metadata": {},
   "outputs": [],
   "source": [
    "datetime.time"
   ]
  },
  {
   "cell_type": "code",
   "execution_count": 5,
   "id": "32ded159",
   "metadata": {},
   "outputs": [],
   "source": [
    "signup = SignUp('boaboa', 'boaboa@epos.com', 'boa', 'boa')\n"
   ]
  },
  {
   "cell_type": "code",
   "execution_count": 8,
   "id": "5e97a74d",
   "metadata": {},
   "outputs": [],
   "source": [
    "from tools import delete_user"
   ]
  },
  {
   "cell_type": "code",
   "execution_count": 9,
   "id": "21605349",
   "metadata": {},
   "outputs": [
    {
     "data": {
      "text/plain": [
       "True"
      ]
     },
     "execution_count": 9,
     "metadata": {},
     "output_type": "execute_result"
    }
   ],
   "source": [
    "delete_user(1)"
   ]
  },
  {
   "cell_type": "code",
   "execution_count": 6,
   "id": "a1ba6be8",
   "metadata": {},
   "outputs": [
    {
     "data": {
      "text/plain": [
       "True"
      ]
     },
     "execution_count": 6,
     "metadata": {},
     "output_type": "execute_result"
    }
   ],
   "source": [
    "signup.create_user()"
   ]
  },
  {
   "cell_type": "code",
   "execution_count": null,
   "id": "2d754119",
   "metadata": {},
   "outputs": [],
   "source": [
    "import datetime as dt\n",
    "\n",
    "#datetime.time(hour=1, minute=23, second=12)\n",
    "now = dt.datetime.now().strftime('%H:%M:%S')\n",
    "# split the string into formats\n",
    "time = now.split(':')\n",
    "hour = int(time[0])\n",
    "minute = int(time[1])\n",
    "second = int(time[2])\n",
    "dt.time(hour=hour, minute=minute, second=second)\n"
   ]
  },
  {
   "cell_type": "code",
   "execution_count": 11,
   "id": "1d3ded36",
   "metadata": {},
   "outputs": [],
   "source": [
    "path = r'D:\\GDWhatsApp\\Media\\GBWhatsApp Images'"
   ]
  },
  {
   "cell_type": "code",
   "execution_count": 12,
   "id": "b4d0689c",
   "metadata": {},
   "outputs": [],
   "source": [
    "from glob import glob\n",
    "import os"
   ]
  },
  {
   "cell_type": "code",
   "execution_count": 15,
   "id": "b1f20c40",
   "metadata": {},
   "outputs": [],
   "source": [
    "os.chdir(path)\n",
    "paths = []\n",
    "images = glob('*.jpg')\n",
    "for i in images:\n",
    "    paths.append(os.path.join(path, i))\n",
    "    "
   ]
  },
  {
   "cell_type": "code",
   "execution_count": 5,
   "id": "442749b4",
   "metadata": {},
   "outputs": [],
   "source": [
    "mylist = [i for i in range(1, 101)]"
   ]
  },
  {
   "cell_type": "code",
   "execution_count": 24,
   "id": "ddbf2f9b",
   "metadata": {},
   "outputs": [],
   "source": [
    "from datetime import datetime\n",
    "from time import time"
   ]
  },
  {
   "cell_type": "code",
   "execution_count": 45,
   "id": "dc77f005",
   "metadata": {},
   "outputs": [
    {
     "ename": "NameError",
     "evalue": "name '__file__' is not defined",
     "output_type": "error",
     "traceback": [
      "\u001b[1;31m---------------------------------------------------------------------------\u001b[0m",
      "\u001b[1;31mNameError\u001b[0m                                 Traceback (most recent call last)",
      "\u001b[1;32m~\\AppData\\Local\\Temp/ipykernel_9252/1874740963.py\u001b[0m in \u001b[0;36m<module>\u001b[1;34m\u001b[0m\n\u001b[0;32m      1\u001b[0m \u001b[1;32mimport\u001b[0m \u001b[0mos\u001b[0m\u001b[1;33m\u001b[0m\u001b[1;33m\u001b[0m\u001b[0m\n\u001b[1;32m----> 2\u001b[1;33m \u001b[0mparent\u001b[0m \u001b[1;33m=\u001b[0m \u001b[0mos\u001b[0m\u001b[1;33m.\u001b[0m\u001b[0mpath\u001b[0m\u001b[1;33m.\u001b[0m\u001b[0mdirname\u001b[0m\u001b[1;33m(\u001b[0m\u001b[0m__file__\u001b[0m\u001b[1;33m)\u001b[0m\u001b[1;33m\u001b[0m\u001b[1;33m\u001b[0m\u001b[0m\n\u001b[0m\u001b[0;32m      3\u001b[0m \u001b[0mfilename\u001b[0m \u001b[1;33m=\u001b[0m \u001b[0mstr\u001b[0m\u001b[1;33m(\u001b[0m\u001b[0mtime\u001b[0m\u001b[1;33m(\u001b[0m\u001b[1;33m)\u001b[0m\u001b[1;33m)\u001b[0m\u001b[1;33m.\u001b[0m\u001b[0mreplace\u001b[0m\u001b[1;33m(\u001b[0m\u001b[1;34m'.'\u001b[0m\u001b[1;33m,\u001b[0m \u001b[1;34m'_'\u001b[0m\u001b[1;33m)\u001b[0m \u001b[1;33m+\u001b[0m \u001b[1;34m'.png'\u001b[0m\u001b[1;33m\u001b[0m\u001b[1;33m\u001b[0m\u001b[0m\n\u001b[0;32m      4\u001b[0m \u001b[0mfilename\u001b[0m\u001b[1;33m\u001b[0m\u001b[1;33m\u001b[0m\u001b[0m\n",
      "\u001b[1;31mNameError\u001b[0m: name '__file__' is not defined"
     ]
    }
   ],
   "source": [
    "import os\n",
    "parent = os.path.dirname(__file__)\n",
    "filename = str(time()).replace('.', '_') + '.png'\n",
    "filename"
   ]
  },
  {
   "cell_type": "code",
   "execution_count": 2,
   "id": "33a77f37",
   "metadata": {},
   "outputs": [
    {
     "name": "stdout",
     "output_type": "stream",
     "text": [
      "{'Berny': {'50': '#50696969', '100': '#2d393939', '200': '#21232323', '300': '#1d1d1d1d', '400': '#1b1b1b1b', '500': '#1a1a1a1a', '600': '#19191919', '700': '#19191919', '800': '#19191919', '900': '#19191919', 'A100': '#19191919', 'A200': '#19191919', 'A400': '#19191919', 'A700': '#19191919'}}\n"
     ]
    }
   ],
   "source": [
    "\n",
    "#from pprint import pprint\n",
    "from kivy.properties import ListProperty\n",
    "from kivy.utils import get_color_from_hex, get_hex_from_color\n",
    "import random\n",
    "\n",
    "class CustomColors:\n",
    "\tdef __init__(self, rgba_color=[], name=None):\n",
    "\t\t''' create a customes colors based on material design pattern '''\n",
    "\t\tself.colors = rgba_color\n",
    "\t\tself.name = name\n",
    "\t\tself.customcolor = {}\n",
    "\n",
    "\t\tself.keys = ['50','100','200','300','400','500','600','700','800','900','A100','A200','A400','A700']\n",
    "\tdef generate_colors(self):\n",
    "\t\t''' generate colors to be mapped to the keys '''\n",
    "\t\tself.mycolors = {}\n",
    "\t\tif isinstance(self.colors, (list, tuple)) and len(self.colors) == 4:\n",
    "\t\t\trate = (22/7)\n",
    "\t\t\tscale = 1\n",
    "\t\t\tfor key in self.keys:\n",
    "\t\t\t\tgen_color = []\n",
    "\t\t\t\tfor c in self.colors:\n",
    "\t\t\t\t\tcolor = self.normalize(c, scale, rate)\n",
    "\t\t\t\t\tgen_color.append(color)\n",
    "\t\t\t\tgen_color.reverse()\n",
    "\t\t\t\tself.mycolors[key] = get_hex_from_color(gen_color)\n",
    "\t\t\t\trate = rate**0.5\n",
    "\t\t\t\tscale = scale**3/2\n",
    "\t\treturn self.mycolors\n",
    "\n",
    "\tdef normalize(self, value, scale, rate):\n",
    "\t\t''' prevent the value fro going beyond the expected '''\n",
    "\t\tcolor_value = value*scale+rate\n",
    "\t\twhile color_value > 1:\n",
    "\t\t\t# we need to normalize the color value \n",
    "\t\t\tcolor_value *= 0.1\n",
    "\t\telse:\n",
    "\t\t\treturn color_value\n",
    "\n",
    "\tdef color(self):\n",
    "\t\t''' give the schema a color code to use '''\n",
    "\t\tif self.name == None:\n",
    "\t\t\tself.name = 'CustomColor'\n",
    "\t\tself.customcolor[self.name] = self.generate_colors()\n",
    "\t\treturn  self.customcolor\n",
    "\n",
    "\n",
    "\n",
    "\t\n",
    "if __name__ == '__main__':\n",
    "\t'''\n",
    "\t\n",
    "\tcolor_dict = colors['CustomColor']\n",
    "\tfor key, value in color_dict.items():\n",
    "\t\ttheme = get_color_from_hex(value)\n",
    "\t\tprint(len(theme), value)\n",
    "\t#\n",
    "\t'''\n",
    "\t#TestColorTheme().run()\n",
    "\tcolors = CustomColors(rgba_color=[1,1,1,0], name='Berny').color()\n",
    "\t#colors['Berny'] = mycolors['Berny']\n",
    "\tprint(colors)\n",
    "\t\n",
    "\t\t\n",
    "\n",
    "\n",
    "\n",
    "\n",
    "\n"
   ]
  },
  {
   "cell_type": "code",
   "execution_count": 5,
   "id": "838cfdaf",
   "metadata": {},
   "outputs": [
    {
     "name": "stdout",
     "output_type": "stream",
     "text": [
      "[0.3137254901960784, 0.4117647058823529, 0.8117647058823529, 0.611764705882353]\n",
      "[0.17647058823529413, 0.2235294117647059, 0.4235294117647059, 0.3254901960784314]\n",
      "[0.12941176470588237, 0.13725490196078433, 0.1607843137254902, 0.14901960784313725]\n",
      "[0.11372549019607843, 0.11372549019607843, 0.11372549019607843, 0.11372549019607843]\n",
      "[0.10588235294117647, 0.10588235294117647, 0.10588235294117647, 0.10588235294117647]\n",
      "[0.10196078431372549, 0.10196078431372549, 0.10196078431372549, 0.10196078431372549]\n",
      "[0.09803921568627451, 0.09803921568627451, 0.09803921568627451, 0.09803921568627451]\n",
      "[0.09803921568627451, 0.09803921568627451, 0.09803921568627451, 0.09803921568627451]\n",
      "[0.09803921568627451, 0.09803921568627451, 0.09803921568627451, 0.09803921568627451]\n",
      "[0.09803921568627451, 0.09803921568627451, 0.09803921568627451, 0.09803921568627451]\n",
      "[0.09803921568627451, 0.09803921568627451, 0.09803921568627451, 0.09803921568627451]\n",
      "[0.09803921568627451, 0.09803921568627451, 0.09803921568627451, 0.09803921568627451]\n",
      "[0.09803921568627451, 0.09803921568627451, 0.09803921568627451, 0.09803921568627451]\n",
      "[0.09803921568627451, 0.09803921568627451, 0.09803921568627451, 0.09803921568627451]\n"
     ]
    }
   ],
   "source": [
    "custom_theme =  CustomColors(rgba_color=[3,5,1,0], name='Berny').color()\n",
    "dummy = custom_theme['Berny']\n",
    "color_dict = dummy\n",
    "for key, value in color_dict.items():\n",
    "    theme = get_color_from_hex(value)\n",
    "    print(theme)"
   ]
  },
  {
   "cell_type": "code",
   "execution_count": 11,
   "id": "5873a8be",
   "metadata": {},
   "outputs": [
    {
     "name": "stdout",
     "output_type": "stream",
     "text": [
      "Encoded data: 01110010\n",
      "Huffman Codes: {'m': '00', 't': '01', 'e': '10', 'i': '11'}\n",
      "Decoded data: time\n"
     ]
    }
   ],
   "source": [
    "import heapq\n",
    "from collections import defaultdict, Counter\n",
    "\n",
    "class HuffmanNode:\n",
    "    def __init__(self, char, freq):\n",
    "        self.char = char\n",
    "        self.freq = freq\n",
    "        self.left = None\n",
    "        self.right = None\n",
    "\n",
    "    def __lt__(self, other):\n",
    "        return self.freq < other.freq\n",
    "\n",
    "def build_huffman_tree(data):\n",
    "    frequency_counter = Counter(data)\n",
    "    heap = [HuffmanNode(char, freq) for char, freq in frequency_counter.items()]\n",
    "    heapq.heapify(heap)\n",
    "\n",
    "    while len(heap) > 1:\n",
    "        left_node = heapq.heappop(heap)\n",
    "        right_node = heapq.heappop(heap)\n",
    "\n",
    "        internal_node = HuffmanNode(None, left_node.freq + right_node.freq)\n",
    "        internal_node.left = left_node\n",
    "        internal_node.right = right_node\n",
    "\n",
    "        heapq.heappush(heap, internal_node)\n",
    "\n",
    "    return heap[0]\n",
    "\n",
    "def build_huffman_codes(node, current_code='', codes={}):\n",
    "    if node is None:\n",
    "        return\n",
    "\n",
    "    if node.char is not None:\n",
    "        codes[node.char] = current_code\n",
    "        return\n",
    "\n",
    "    build_huffman_codes(node.left, current_code + '0', codes)\n",
    "    build_huffman_codes(node.right, current_code + '1', codes)\n",
    "\n",
    "def huffman_encode(data):\n",
    "    root = build_huffman_tree(data)\n",
    "    codes = {}\n",
    "    build_huffman_codes(root, codes=codes)\n",
    "\n",
    "    encoded_data = ''.join(codes[char] for char in data)\n",
    "    return encoded_data, codes\n",
    "\n",
    "def huffman_decode(encoded_data, codes):\n",
    "    reverse_codes = {code: char for char, code in codes.items()}\n",
    "    current_code = ''\n",
    "    decoded_data = ''\n",
    "\n",
    "    for bit in encoded_data:\n",
    "        current_code += bit\n",
    "        if current_code in reverse_codes:\n",
    "            char = reverse_codes[current_code]\n",
    "            decoded_data += char\n",
    "            current_code = ''\n",
    "\n",
    "    return decoded_data\n",
    "\n",
    "# Example usage:\n",
    "input_string = \"time\"\n",
    "encoded_data, codes = huffman_encode(input_string)\n",
    "print(\"Encoded data:\", encoded_data)\n",
    "print(\"Huffman Codes:\", codes)\n",
    "\n",
    "decoded_data = huffman_decode(encoded_data, codes)\n",
    "print(\"Decoded data:\", decoded_data)"
   ]
  },
  {
   "cell_type": "code",
   "execution_count": null,
   "id": "f411ec0c",
   "metadata": {},
   "outputs": [],
   "source": []
  }
 ],
 "metadata": {
  "kernelspec": {
   "display_name": "Python 3 (ipykernel)",
   "language": "python",
   "name": "python3"
  },
  "language_info": {
   "codemirror_mode": {
    "name": "ipython",
    "version": 3
   },
   "file_extension": ".py",
   "mimetype": "text/x-python",
   "name": "python",
   "nbconvert_exporter": "python",
   "pygments_lexer": "ipython3",
   "version": "3.9.7"
  }
 },
 "nbformat": 4,
 "nbformat_minor": 5
}
