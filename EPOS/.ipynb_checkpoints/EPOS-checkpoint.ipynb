{
 "cells": [
  {
   "cell_type": "code",
   "execution_count": null,
   "id": "dcef8012",
   "metadata": {},
   "outputs": [],
   "source": [
    "import string"
   ]
  },
  {
   "cell_type": "code",
   "execution_count": null,
   "id": "30f95f12",
   "metadata": {},
   "outputs": [],
   "source": [
    "from string import digits"
   ]
  },
  {
   "cell_type": "code",
   "execution_count": null,
   "id": "49243849",
   "metadata": {},
   "outputs": [],
   "source": [
    "from string import ascii_uppercase\n",
    "from string import ascii_lowercase\n"
   ]
  },
  {
   "cell_type": "code",
   "execution_count": null,
   "id": "49063832",
   "metadata": {},
   "outputs": [],
   "source": [
    "from string import punctuation"
   ]
  },
  {
   "cell_type": "code",
   "execution_count": null,
   "id": "3d0ed31c",
   "metadata": {},
   "outputs": [],
   "source": [
    "punctuation"
   ]
  },
  {
   "cell_type": "code",
   "execution_count": null,
   "id": "beac3e06",
   "metadata": {},
   "outputs": [],
   "source": [
    "data = {'name':'bernice', 'school':'buruburu', 'home':'Garia'}"
   ]
  },
  {
   "cell_type": "code",
   "execution_count": null,
   "id": "310b33a6",
   "metadata": {},
   "outputs": [],
   "source": [
    "data.items()"
   ]
  },
  {
   "cell_type": "code",
   "execution_count": null,
   "id": "253ef678",
   "metadata": {},
   "outputs": [],
   "source": [
    "data"
   ]
  },
  {
   "cell_type": "code",
   "execution_count": null,
   "id": "f30adf05",
   "metadata": {},
   "outputs": [],
   "source": [
    "def check_digits(char):\n",
    "    if char in digits:\n",
    "        return True\n",
    "    else:\n",
    "        return False\n",
    "def check_specialcase(char):\n",
    "    if char in punctuation:\n",
    "        return True\n",
    "    else:\n",
    "        return False\n",
    "def check_uppercase(char):\n",
    "    if char in ascii_uppercase:\n",
    "        return True\n",
    "    else:\n",
    "        return False\n",
    "def check_lowercase(char):\n",
    "    if char in ascii_lowercase:\n",
    "        return True\n",
    "    else:\n",
    "        return False\n",
    "    \n",
    "def validate_password_strength(password):\n",
    "    digit = False\n",
    "    special = False\n",
    "    upper = False\n",
    "    lower = False\n",
    "    for char in password:\n",
    "        if check_digits(char):\n",
    "            digit = True\n",
    "        else:\n",
    "            continue\n",
    "    for char in password:\n",
    "        if check_specialcase(char):\n",
    "            special = True\n",
    "        else:\n",
    "            continue\n",
    "    for char in password:\n",
    "        if check_uppercase(char):\n",
    "            upper = True\n",
    "        else:\n",
    "            continue\n",
    "    for char in password:\n",
    "        if check_lowercase(char):\n",
    "            lower = True\n",
    "        else:\n",
    "            continue\n",
    "            \n",
    "    if digit and special and upper and lower:\n",
    "        return True\n",
    "    else:\n",
    "        return False\n",
    "    \n",
    "            \n",
    "        \n",
    "    \n",
    "    "
   ]
  },
  {
   "cell_type": "code",
   "execution_count": null,
   "id": "b37abbdb",
   "metadata": {},
   "outputs": [],
   "source": [
    "validate_password_strength('Bernice23@')"
   ]
  },
  {
   "cell_type": "code",
   "execution_count": null,
   "id": "caa3b813",
   "metadata": {},
   "outputs": [],
   "source": [
    "from tools import SignUp, LoginUser, PasswordStrength"
   ]
  },
  {
   "cell_type": "code",
   "execution_count": null,
   "id": "cad9baeb",
   "metadata": {},
   "outputs": [],
   "source": [
    "user = SignUp('admin', 'admin@epos.com', 'admin', 'admin').create_user()"
   ]
  },
  {
   "cell_type": "code",
   "execution_count": null,
   "id": "78637c03",
   "metadata": {},
   "outputs": [],
   "source": [
    "user"
   ]
  },
  {
   "cell_type": "code",
   "execution_count": null,
   "id": "92427a8a",
   "metadata": {},
   "outputs": [],
   "source": [
    "log = LoginUser('admin', 'admin').login()"
   ]
  },
  {
   "cell_type": "code",
   "execution_count": null,
   "id": "78dd6f73",
   "metadata": {},
   "outputs": [],
   "source": [
    "strong = PasswordStrength('Bernice@123')"
   ]
  },
  {
   "cell_type": "code",
   "execution_count": null,
   "id": "edfdbb9d",
   "metadata": {},
   "outputs": [],
   "source": [
    "strong.validate()"
   ]
  },
  {
   "cell_type": "code",
   "execution_count": null,
   "id": "58b84179",
   "metadata": {},
   "outputs": [],
   "source": [
    "import smtplib\n",
    "from email.message import EmailMessage\n",
    "def send_mail(to_email, subject, message, server='smtp.example.cn',\n",
    "              from_email='xx@example.com'):\n",
    "    # import smtplib\n",
    "    msg = EmailMessage()\n",
    "    msg['Subject'] = subject\n",
    "    msg['From'] = from_email\n",
    "    msg['To'] = ', '.join(to_email)\n",
    "    msg.set_content(message)\n",
    "    print(msg)\n",
    "    server = smtplib.SMTP(server)\n",
    "    server.set_debuglevel(1)\n",
    "    server.login(from_email, \"berniceong'ayo\")  # user & password\n",
    "    server.send_message(msg)\n",
    "    server.quit()\n",
    "    print('successfully sent the mail.')"
   ]
  },
  {
   "cell_type": "code",
   "execution_count": null,
   "id": "bdf445a7",
   "metadata": {},
   "outputs": [],
   "source": [
    "send_mail(to_email=['ambundotheseond@gmail.com'], subject='We are the bro', message='The long journet is almost done', from_email='ambundothesecond@yahoo.com')"
   ]
  },
  {
   "cell_type": "code",
   "execution_count": 51,
   "id": "41b94398",
   "metadata": {},
   "outputs": [],
   "source": [
    "from datetime import date, datetime\n",
    "from time import time"
   ]
  },
  {
   "cell_type": "code",
   "execution_count": 52,
   "id": "930f4fe6",
   "metadata": {},
   "outputs": [
    {
     "data": {
      "text/plain": [
       "'09/07/2023'"
      ]
     },
     "execution_count": 52,
     "metadata": {},
     "output_type": "execute_result"
    }
   ],
   "source": [
    "date.today().strftime('%d/%m/%Y')"
   ]
  },
  {
   "cell_type": "code",
   "execution_count": 53,
   "id": "9ccc902b",
   "metadata": {},
   "outputs": [
    {
     "data": {
      "text/plain": [
       "'13:38:17'"
      ]
     },
     "execution_count": 53,
     "metadata": {},
     "output_type": "execute_result"
    }
   ],
   "source": [
    "datetime.now().strftime('%H:%M:%S')"
   ]
  },
  {
   "cell_type": "code",
   "execution_count": null,
   "id": "e1ceb61d",
   "metadata": {},
   "outputs": [],
   "source": [
    "date = date2 - date1"
   ]
  },
  {
   "cell_type": "code",
   "execution_count": 43,
   "id": "2bacfe6f",
   "metadata": {},
   "outputs": [],
   "source": [
    "from datetime import timedelta"
   ]
  },
  {
   "cell_type": "code",
   "execution_count": 41,
   "id": "0689b5c4",
   "metadata": {},
   "outputs": [
    {
     "data": {
      "text/plain": [
       "'00:00:00'"
      ]
     },
     "execution_count": 41,
     "metadata": {},
     "output_type": "execute_result"
    }
   ],
   "source": [
    "date.today().strftime('%H:%M:%S')"
   ]
  },
  {
   "cell_type": "code",
   "execution_count": 42,
   "id": "3e0e1e75",
   "metadata": {},
   "outputs": [
    {
     "ename": "NameError",
     "evalue": "name 'timedelta' is not defined",
     "output_type": "error",
     "traceback": [
      "\u001b[1;31m---------------------------------------------------------------------------\u001b[0m",
      "\u001b[1;31mNameError\u001b[0m                                 Traceback (most recent call last)",
      "\u001b[1;32m~\\AppData\\Local\\Temp/ipykernel_10892/777110345.py\u001b[0m in \u001b[0;36m<module>\u001b[1;34m\u001b[0m\n\u001b[1;32m----> 1\u001b[1;33m \u001b[0mdate\u001b[0m\u001b[1;33m.\u001b[0m\u001b[0mtoday\u001b[0m\u001b[1;33m(\u001b[0m\u001b[1;33m)\u001b[0m \u001b[1;33m-\u001b[0m \u001b[0mtimedelta\u001b[0m\u001b[1;33m(\u001b[0m\u001b[0mdays\u001b[0m\u001b[1;33m=\u001b[0m\u001b[0mint\u001b[0m\u001b[1;33m(\u001b[0m\u001b[1;36m365\u001b[0m\u001b[1;33m/\u001b[0m\u001b[1;36m2\u001b[0m\u001b[1;33m)\u001b[0m\u001b[1;33m)\u001b[0m\u001b[1;33m\u001b[0m\u001b[1;33m\u001b[0m\u001b[0m\n\u001b[0m",
      "\u001b[1;31mNameError\u001b[0m: name 'timedelta' is not defined"
     ]
    }
   ],
   "source": [
    "date.today() - timedelta(days=int(365/2))"
   ]
  },
  {
   "cell_type": "code",
   "execution_count": null,
   "id": "8fa16415",
   "metadata": {},
   "outputs": [],
   "source": [
    "past = date(2022,3,12)"
   ]
  },
  {
   "cell_type": "code",
   "execution_count": null,
   "id": "7adff1e8",
   "metadata": {},
   "outputs": [],
   "source": [
    "time_delta = past - date.today()"
   ]
  },
  {
   "cell_type": "code",
   "execution_count": null,
   "id": "335fa437",
   "metadata": {},
   "outputs": [],
   "source": [
    "days = abs(time_delta.days)\n",
    "for d in range(0, days+1):\n",
    "    current = past+timedelta(days=d)\n",
    "    print(current)"
   ]
  },
  {
   "cell_type": "code",
   "execution_count": null,
   "id": "5e7b35ca",
   "metadata": {},
   "outputs": [],
   "source": [
    "start_date = past\n",
    "stop_date = date.today()\n",
    "if start_date < stop_date:\n",
    "    print('Start with stop date')\n",
    "else:\n",
    "    print('reverse the date')"
   ]
  },
  {
   "cell_type": "code",
   "execution_count": null,
   "id": "751aac92",
   "metadata": {},
   "outputs": [],
   "source": [
    "items = ['apples', 'mango', 'pear', 'orange', 'pawpaw']\n",
    "prices = [50, 20, 40, 15, 25]\n",
    "quantity = [2, 10, 5, 17, 3]"
   ]
  },
  {
   "cell_type": "code",
   "execution_count": null,
   "id": "993e5e17",
   "metadata": {},
   "outputs": [],
   "source": [
    "for item, price, qty in zip(items, prices, quantity):\n",
    "    print(item, price, qty)"
   ]
  },
  {
   "cell_type": "code",
   "execution_count": null,
   "id": "189a5822",
   "metadata": {},
   "outputs": [],
   "source": [
    "class Logger:\n",
    "    def __init__(self, date):\n",
    "        self.date = date\n",
    "    def log(self):\n",
    "        return self.date\n",
    "    def __call__(self):\n",
    "        return self.date\n",
    "    def __str__(self):\n",
    "        return self.date"
   ]
  },
  {
   "cell_type": "code",
   "execution_count": null,
   "id": "0f783e27",
   "metadata": {},
   "outputs": [],
   "source": [
    "log = Logger('23/4/2023')\n",
    "log()"
   ]
  },
  {
   "cell_type": "code",
   "execution_count": null,
   "id": "449a3041",
   "metadata": {},
   "outputs": [],
   "source": [
    "from tools import users\n",
    "from model import User"
   ]
  },
  {
   "cell_type": "code",
   "execution_count": null,
   "id": "0d53966c",
   "metadata": {},
   "outputs": [],
   "source": [
    "user = User(username='boaboa', password='boaboa')"
   ]
  },
  {
   "cell_type": "code",
   "execution_count": null,
   "id": "67be01c4",
   "metadata": {},
   "outputs": [],
   "source": [
    "from tools import session"
   ]
  },
  {
   "cell_type": "code",
   "execution_count": null,
   "id": "1c4ee58c",
   "metadata": {},
   "outputs": [],
   "source": [
    "session.add(user)"
   ]
  },
  {
   "cell_type": "code",
   "execution_count": 12,
   "id": "a9ab3a0b",
   "metadata": {},
   "outputs": [],
   "source": [
    "from time import time"
   ]
  },
  {
   "cell_type": "code",
   "execution_count": 19,
   "id": "a8f443e6",
   "metadata": {},
   "outputs": [],
   "source": [
    " from tools import SignUp"
   ]
  },
  {
   "cell_type": "code",
   "execution_count": 32,
   "id": "42027a66",
   "metadata": {},
   "outputs": [
    {
     "data": {
      "text/plain": [
       "<method 'time' of 'datetime.datetime' objects>"
      ]
     },
     "execution_count": 32,
     "metadata": {},
     "output_type": "execute_result"
    }
   ],
   "source": [
    "datetime.time"
   ]
  },
  {
   "cell_type": "code",
   "execution_count": 61,
   "id": "116c2fd4",
   "metadata": {},
   "outputs": [
    {
     "ename": "NameError",
     "evalue": "name 'session' is not defined",
     "output_type": "error",
     "traceback": [
      "\u001b[1;31m---------------------------------------------------------------------------\u001b[0m",
      "\u001b[1;31mNameError\u001b[0m                                 Traceback (most recent call last)",
      "\u001b[1;32m~\\AppData\\Local\\Temp/ipykernel_10892/365368362.py\u001b[0m in \u001b[0;36m<module>\u001b[1;34m\u001b[0m\n\u001b[0;32m      1\u001b[0m \u001b[0msignup\u001b[0m \u001b[1;33m=\u001b[0m \u001b[0mSignUp\u001b[0m\u001b[1;33m(\u001b[0m\u001b[1;34m'boaboa'\u001b[0m\u001b[1;33m,\u001b[0m \u001b[1;34m'boaboa@epos.com'\u001b[0m\u001b[1;33m,\u001b[0m \u001b[1;34m'boa'\u001b[0m\u001b[1;33m,\u001b[0m \u001b[1;34m'boa'\u001b[0m\u001b[1;33m)\u001b[0m\u001b[1;33m\u001b[0m\u001b[1;33m\u001b[0m\u001b[0m\n\u001b[1;32m----> 2\u001b[1;33m \u001b[0msession\u001b[0m\u001b[1;33m.\u001b[0m\u001b[0mrollback\u001b[0m\u001b[1;33m(\u001b[0m\u001b[1;33m)\u001b[0m\u001b[1;33m\u001b[0m\u001b[1;33m\u001b[0m\u001b[0m\n\u001b[0m",
      "\u001b[1;31mNameError\u001b[0m: name 'session' is not defined"
     ]
    }
   ],
   "source": [
    "signup = SignUp('boaboa', 'boaboa@epos.com', 'boa', 'boa')\n"
   ]
  },
  {
   "cell_type": "code",
   "execution_count": 62,
   "id": "16122d36",
   "metadata": {},
   "outputs": [
    {
     "ename": "PendingRollbackError",
     "evalue": "This Session's transaction has been rolled back due to a previous exception during flush. To begin a new transaction with this Session, first issue Session.rollback(). Original exception was: (builtins.TypeError) SQLite Time type only accepts Python time objects as input.\n[SQL: INSERT INTO \"LogRecords\" (user, date, time, action) VALUES (?, ?, ?, ?)]\n[parameters: [{'action': 'boaboa added', 'user': None}]] (Background on this error at: https://sqlalche.me/e/14/7s2a)",
     "output_type": "error",
     "traceback": [
      "\u001b[1;31m---------------------------------------------------------------------------\u001b[0m",
      "\u001b[1;31mPendingRollbackError\u001b[0m                      Traceback (most recent call last)",
      "\u001b[1;32m~\\AppData\\Local\\Temp/ipykernel_10892/3216841822.py\u001b[0m in \u001b[0;36m<module>\u001b[1;34m\u001b[0m\n\u001b[1;32m----> 1\u001b[1;33m \u001b[0msignup\u001b[0m\u001b[1;33m.\u001b[0m\u001b[0mcreate_user\u001b[0m\u001b[1;33m(\u001b[0m\u001b[1;33m)\u001b[0m\u001b[1;33m\u001b[0m\u001b[1;33m\u001b[0m\u001b[0m\n\u001b[0m",
      "\u001b[1;32m~\\Desktop\\Scripts\\MyApps\\EPOS\\tools.py\u001b[0m in \u001b[0;36mcreate_user\u001b[1;34m(self)\u001b[0m\n\u001b[0;32m     80\u001b[0m         \u001b[1;32mdef\u001b[0m \u001b[0mcreate_user\u001b[0m\u001b[1;33m(\u001b[0m\u001b[0mself\u001b[0m\u001b[1;33m)\u001b[0m\u001b[1;33m:\u001b[0m\u001b[1;33m\u001b[0m\u001b[1;33m\u001b[0m\u001b[0m\n\u001b[0;32m     81\u001b[0m                 \u001b[1;34m''' Add the user to the database '''\u001b[0m\u001b[1;33m\u001b[0m\u001b[1;33m\u001b[0m\u001b[0m\n\u001b[1;32m---> 82\u001b[1;33m                 \u001b[1;32mif\u001b[0m \u001b[1;32mnot\u001b[0m \u001b[0mself\u001b[0m\u001b[1;33m.\u001b[0m\u001b[0mcheck_user\u001b[0m\u001b[1;33m:\u001b[0m\u001b[1;33m\u001b[0m\u001b[1;33m\u001b[0m\u001b[0m\n\u001b[0m\u001b[0;32m     83\u001b[0m                         \u001b[1;31m#the username if free for use\u001b[0m\u001b[1;33m\u001b[0m\u001b[1;33m\u001b[0m\u001b[0m\n\u001b[0;32m     84\u001b[0m                         \u001b[1;32mif\u001b[0m \u001b[0mself\u001b[0m\u001b[1;33m.\u001b[0m\u001b[0mvalidate_password\u001b[0m\u001b[1;33m(\u001b[0m\u001b[0mself\u001b[0m\u001b[1;33m.\u001b[0m\u001b[0mpassword\u001b[0m\u001b[1;33m,\u001b[0m \u001b[0mself\u001b[0m\u001b[1;33m.\u001b[0m\u001b[0mrepeat_password\u001b[0m\u001b[1;33m)\u001b[0m\u001b[1;33m:\u001b[0m\u001b[1;33m\u001b[0m\u001b[1;33m\u001b[0m\u001b[0m\n",
      "\u001b[1;32m~\\Desktop\\Scripts\\MyApps\\EPOS\\tools.py\u001b[0m in \u001b[0;36mcheck_user\u001b[1;34m(self)\u001b[0m\n\u001b[0;32m     65\u001b[0m                 \u001b[0mthis\u001b[0m \u001b[1;32mis\u001b[0m \u001b[0mbecause\u001b[0m \u001b[0ma\u001b[0m \u001b[0musername\u001b[0m \u001b[1;32mis\u001b[0m \u001b[0ma\u001b[0m \u001b[0munique\u001b[0m \u001b[1;32mfor\u001b[0m \u001b[0mevery\u001b[0m \u001b[0mone\u001b[0m \u001b[1;32mand\u001b[0m \u001b[0mcannot\u001b[0m \u001b[0mbe\u001b[0m \u001b[0mshared\u001b[0m\u001b[1;33m\u001b[0m\u001b[1;33m\u001b[0m\u001b[0m\n\u001b[0;32m     66\u001b[0m \t\t'''\n\u001b[1;32m---> 67\u001b[1;33m                 \u001b[0mself\u001b[0m\u001b[1;33m.\u001b[0m\u001b[0muser\u001b[0m \u001b[1;33m=\u001b[0m \u001b[0msession\u001b[0m\u001b[1;33m.\u001b[0m\u001b[0mquery\u001b[0m\u001b[1;33m(\u001b[0m\u001b[0mUser\u001b[0m\u001b[1;33m)\u001b[0m\u001b[1;33m.\u001b[0m\u001b[0mfilter\u001b[0m\u001b[1;33m(\u001b[0m\u001b[0mUser\u001b[0m\u001b[1;33m.\u001b[0m\u001b[0musername\u001b[0m \u001b[1;33m==\u001b[0m \u001b[0mself\u001b[0m\u001b[1;33m.\u001b[0m\u001b[0musername\u001b[0m\u001b[1;33m)\u001b[0m\u001b[1;33m.\u001b[0m\u001b[0mfirst\u001b[0m\u001b[1;33m(\u001b[0m\u001b[1;33m)\u001b[0m\u001b[1;33m\u001b[0m\u001b[1;33m\u001b[0m\u001b[0m\n\u001b[0m\u001b[0;32m     68\u001b[0m                 \u001b[1;32mif\u001b[0m \u001b[0mself\u001b[0m\u001b[1;33m.\u001b[0m\u001b[0muser\u001b[0m\u001b[1;33m:\u001b[0m\u001b[1;33m\u001b[0m\u001b[1;33m\u001b[0m\u001b[0m\n\u001b[0;32m     69\u001b[0m                         \u001b[1;32mreturn\u001b[0m \u001b[1;32mTrue\u001b[0m\u001b[1;33m\u001b[0m\u001b[1;33m\u001b[0m\u001b[0m\n",
      "\u001b[1;32mC:\\ProgramData\\Anaconda3\\lib\\site-packages\\sqlalchemy\\orm\\query.py\u001b[0m in \u001b[0;36mfirst\u001b[1;34m(self)\u001b[0m\n\u001b[0;32m   2761\u001b[0m             \u001b[1;32mreturn\u001b[0m \u001b[0mself\u001b[0m\u001b[1;33m.\u001b[0m\u001b[0m_iter\u001b[0m\u001b[1;33m(\u001b[0m\u001b[1;33m)\u001b[0m\u001b[1;33m.\u001b[0m\u001b[0mfirst\u001b[0m\u001b[1;33m(\u001b[0m\u001b[1;33m)\u001b[0m\u001b[1;33m\u001b[0m\u001b[1;33m\u001b[0m\u001b[0m\n\u001b[0;32m   2762\u001b[0m         \u001b[1;32melse\u001b[0m\u001b[1;33m:\u001b[0m\u001b[1;33m\u001b[0m\u001b[1;33m\u001b[0m\u001b[0m\n\u001b[1;32m-> 2763\u001b[1;33m             \u001b[1;32mreturn\u001b[0m \u001b[0mself\u001b[0m\u001b[1;33m.\u001b[0m\u001b[0mlimit\u001b[0m\u001b[1;33m(\u001b[0m\u001b[1;36m1\u001b[0m\u001b[1;33m)\u001b[0m\u001b[1;33m.\u001b[0m\u001b[0m_iter\u001b[0m\u001b[1;33m(\u001b[0m\u001b[1;33m)\u001b[0m\u001b[1;33m.\u001b[0m\u001b[0mfirst\u001b[0m\u001b[1;33m(\u001b[0m\u001b[1;33m)\u001b[0m\u001b[1;33m\u001b[0m\u001b[1;33m\u001b[0m\u001b[0m\n\u001b[0m\u001b[0;32m   2764\u001b[0m \u001b[1;33m\u001b[0m\u001b[0m\n\u001b[0;32m   2765\u001b[0m     \u001b[1;32mdef\u001b[0m \u001b[0mone_or_none\u001b[0m\u001b[1;33m(\u001b[0m\u001b[0mself\u001b[0m\u001b[1;33m)\u001b[0m\u001b[1;33m:\u001b[0m\u001b[1;33m\u001b[0m\u001b[1;33m\u001b[0m\u001b[0m\n",
      "\u001b[1;32mC:\\ProgramData\\Anaconda3\\lib\\site-packages\\sqlalchemy\\orm\\query.py\u001b[0m in \u001b[0;36m_iter\u001b[1;34m(self)\u001b[0m\n\u001b[0;32m   2845\u001b[0m \u001b[1;33m\u001b[0m\u001b[0m\n\u001b[0;32m   2846\u001b[0m         \u001b[0mstatement\u001b[0m \u001b[1;33m=\u001b[0m \u001b[0mself\u001b[0m\u001b[1;33m.\u001b[0m\u001b[0m_statement_20\u001b[0m\u001b[1;33m(\u001b[0m\u001b[1;33m)\u001b[0m\u001b[1;33m\u001b[0m\u001b[1;33m\u001b[0m\u001b[0m\n\u001b[1;32m-> 2847\u001b[1;33m         result = self.session.execute(\n\u001b[0m\u001b[0;32m   2848\u001b[0m             \u001b[0mstatement\u001b[0m\u001b[1;33m,\u001b[0m\u001b[1;33m\u001b[0m\u001b[1;33m\u001b[0m\u001b[0m\n\u001b[0;32m   2849\u001b[0m             \u001b[0mparams\u001b[0m\u001b[1;33m,\u001b[0m\u001b[1;33m\u001b[0m\u001b[1;33m\u001b[0m\u001b[0m\n",
      "\u001b[1;32mC:\\ProgramData\\Anaconda3\\lib\\site-packages\\sqlalchemy\\orm\\session.py\u001b[0m in \u001b[0;36mexecute\u001b[1;34m(self, statement, params, execution_options, bind_arguments, _parent_execute_state, _add_event, **kw)\u001b[0m\n\u001b[0;32m   1686\u001b[0m             )\n\u001b[0;32m   1687\u001b[0m         \u001b[1;32melse\u001b[0m\u001b[1;33m:\u001b[0m\u001b[1;33m\u001b[0m\u001b[1;33m\u001b[0m\u001b[0m\n\u001b[1;32m-> 1688\u001b[1;33m             \u001b[0mconn\u001b[0m \u001b[1;33m=\u001b[0m \u001b[0mself\u001b[0m\u001b[1;33m.\u001b[0m\u001b[0m_connection_for_bind\u001b[0m\u001b[1;33m(\u001b[0m\u001b[0mbind\u001b[0m\u001b[1;33m)\u001b[0m\u001b[1;33m\u001b[0m\u001b[1;33m\u001b[0m\u001b[0m\n\u001b[0m\u001b[0;32m   1689\u001b[0m         \u001b[0mresult\u001b[0m \u001b[1;33m=\u001b[0m \u001b[0mconn\u001b[0m\u001b[1;33m.\u001b[0m\u001b[0m_execute_20\u001b[0m\u001b[1;33m(\u001b[0m\u001b[0mstatement\u001b[0m\u001b[1;33m,\u001b[0m \u001b[0mparams\u001b[0m \u001b[1;32mor\u001b[0m \u001b[1;33m{\u001b[0m\u001b[1;33m}\u001b[0m\u001b[1;33m,\u001b[0m \u001b[0mexecution_options\u001b[0m\u001b[1;33m)\u001b[0m\u001b[1;33m\u001b[0m\u001b[1;33m\u001b[0m\u001b[0m\n\u001b[0;32m   1690\u001b[0m \u001b[1;33m\u001b[0m\u001b[0m\n",
      "\u001b[1;32mC:\\ProgramData\\Anaconda3\\lib\\site-packages\\sqlalchemy\\orm\\session.py\u001b[0m in \u001b[0;36m_connection_for_bind\u001b[1;34m(self, engine, execution_options, **kw)\u001b[0m\n\u001b[0;32m   1527\u001b[0m \u001b[1;33m\u001b[0m\u001b[0m\n\u001b[0;32m   1528\u001b[0m         \u001b[1;32mif\u001b[0m \u001b[0mself\u001b[0m\u001b[1;33m.\u001b[0m\u001b[0m_transaction\u001b[0m \u001b[1;32mis\u001b[0m \u001b[1;32mnot\u001b[0m \u001b[1;32mNone\u001b[0m \u001b[1;32mor\u001b[0m \u001b[0mself\u001b[0m\u001b[1;33m.\u001b[0m\u001b[0m_autobegin\u001b[0m\u001b[1;33m(\u001b[0m\u001b[1;33m)\u001b[0m\u001b[1;33m:\u001b[0m\u001b[1;33m\u001b[0m\u001b[1;33m\u001b[0m\u001b[0m\n\u001b[1;32m-> 1529\u001b[1;33m             return self._transaction._connection_for_bind(\n\u001b[0m\u001b[0;32m   1530\u001b[0m                 \u001b[0mengine\u001b[0m\u001b[1;33m,\u001b[0m \u001b[0mexecution_options\u001b[0m\u001b[1;33m\u001b[0m\u001b[1;33m\u001b[0m\u001b[0m\n\u001b[0;32m   1531\u001b[0m             )\n",
      "\u001b[1;32mC:\\ProgramData\\Anaconda3\\lib\\site-packages\\sqlalchemy\\orm\\session.py\u001b[0m in \u001b[0;36m_connection_for_bind\u001b[1;34m(self, bind, execution_options)\u001b[0m\n\u001b[0;32m    719\u001b[0m \u001b[1;33m\u001b[0m\u001b[0m\n\u001b[0;32m    720\u001b[0m     \u001b[1;32mdef\u001b[0m \u001b[0m_connection_for_bind\u001b[0m\u001b[1;33m(\u001b[0m\u001b[0mself\u001b[0m\u001b[1;33m,\u001b[0m \u001b[0mbind\u001b[0m\u001b[1;33m,\u001b[0m \u001b[0mexecution_options\u001b[0m\u001b[1;33m)\u001b[0m\u001b[1;33m:\u001b[0m\u001b[1;33m\u001b[0m\u001b[1;33m\u001b[0m\u001b[0m\n\u001b[1;32m--> 721\u001b[1;33m         \u001b[0mself\u001b[0m\u001b[1;33m.\u001b[0m\u001b[0m_assert_active\u001b[0m\u001b[1;33m(\u001b[0m\u001b[1;33m)\u001b[0m\u001b[1;33m\u001b[0m\u001b[1;33m\u001b[0m\u001b[0m\n\u001b[0m\u001b[0;32m    722\u001b[0m \u001b[1;33m\u001b[0m\u001b[0m\n\u001b[0;32m    723\u001b[0m         \u001b[1;32mif\u001b[0m \u001b[0mbind\u001b[0m \u001b[1;32min\u001b[0m \u001b[0mself\u001b[0m\u001b[1;33m.\u001b[0m\u001b[0m_connections\u001b[0m\u001b[1;33m:\u001b[0m\u001b[1;33m\u001b[0m\u001b[1;33m\u001b[0m\u001b[0m\n",
      "\u001b[1;32mC:\\ProgramData\\Anaconda3\\lib\\site-packages\\sqlalchemy\\orm\\session.py\u001b[0m in \u001b[0;36m_assert_active\u001b[1;34m(self, prepared_ok, rollback_ok, deactive_ok, closed_msg)\u001b[0m\n\u001b[0;32m    599\u001b[0m             \u001b[1;32mif\u001b[0m \u001b[1;32mnot\u001b[0m \u001b[0mdeactive_ok\u001b[0m \u001b[1;32mand\u001b[0m \u001b[1;32mnot\u001b[0m \u001b[0mrollback_ok\u001b[0m\u001b[1;33m:\u001b[0m\u001b[1;33m\u001b[0m\u001b[1;33m\u001b[0m\u001b[0m\n\u001b[0;32m    600\u001b[0m                 \u001b[1;32mif\u001b[0m \u001b[0mself\u001b[0m\u001b[1;33m.\u001b[0m\u001b[0m_rollback_exception\u001b[0m\u001b[1;33m:\u001b[0m\u001b[1;33m\u001b[0m\u001b[1;33m\u001b[0m\u001b[0m\n\u001b[1;32m--> 601\u001b[1;33m                     raise sa_exc.PendingRollbackError(\n\u001b[0m\u001b[0;32m    602\u001b[0m                         \u001b[1;34m\"This Session's transaction has been rolled back \"\u001b[0m\u001b[1;33m\u001b[0m\u001b[1;33m\u001b[0m\u001b[0m\n\u001b[0;32m    603\u001b[0m                         \u001b[1;34m\"due to a previous exception during flush.\"\u001b[0m\u001b[1;33m\u001b[0m\u001b[1;33m\u001b[0m\u001b[0m\n",
      "\u001b[1;31mPendingRollbackError\u001b[0m: This Session's transaction has been rolled back due to a previous exception during flush. To begin a new transaction with this Session, first issue Session.rollback(). Original exception was: (builtins.TypeError) SQLite Time type only accepts Python time objects as input.\n[SQL: INSERT INTO \"LogRecords\" (user, date, time, action) VALUES (?, ?, ?, ?)]\n[parameters: [{'action': 'boaboa added', 'user': None}]] (Background on this error at: https://sqlalche.me/e/14/7s2a)"
     ]
    }
   ],
   "source": [
    "signup.create_user()"
   ]
  },
  {
   "cell_type": "code",
   "execution_count": 58,
   "id": "b7d6aa5e",
   "metadata": {},
   "outputs": [
    {
     "data": {
      "text/plain": [
       "datetime.time(13, 42, 8)"
      ]
     },
     "execution_count": 58,
     "metadata": {},
     "output_type": "execute_result"
    }
   ],
   "source": [
    "import datetime as dt\n",
    "\n",
    "#datetime.time(hour=1, minute=23, second=12)\n",
    "now = dt.datetime.now().strftime('%H:%M:%S')\n",
    "# split the string into formats\n",
    "time = now.split(':')\n",
    "hour = int(time[0])\n",
    "minute = int(time[1])\n",
    "second = int(time[2])\n",
    "dt.time(hour=hour, minute=minute, second=second)\n"
   ]
  },
  {
   "cell_type": "code",
   "execution_count": null,
   "id": "aacd8233",
   "metadata": {},
   "outputs": [],
   "source": []
  },
  {
   "cell_type": "code",
   "execution_count": null,
   "id": "05277f42",
   "metadata": {},
   "outputs": [],
   "source": []
  }
 ],
 "metadata": {
  "kernelspec": {
   "display_name": "Python 3 (ipykernel)",
   "language": "python",
   "name": "python3"
  },
  "language_info": {
   "codemirror_mode": {
    "name": "ipython",
    "version": 3
   },
   "file_extension": ".py",
   "mimetype": "text/x-python",
   "name": "python",
   "nbconvert_exporter": "python",
   "pygments_lexer": "ipython3",
   "version": "3.9.7"
  }
 },
 "nbformat": 4,
 "nbformat_minor": 5
}
