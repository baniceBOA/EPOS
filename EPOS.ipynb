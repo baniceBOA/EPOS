{
 "cells": [
  {
   "cell_type": "code",
   "execution_count": 1,
   "id": "dcef8012",
   "metadata": {},
   "outputs": [],
   "source": [
    "import string"
   ]
  },
  {
   "cell_type": "code",
   "execution_count": 9,
   "id": "30f95f12",
   "metadata": {},
   "outputs": [],
   "source": [
    "from string import digits"
   ]
  },
  {
   "cell_type": "code",
   "execution_count": 10,
   "id": "49243849",
   "metadata": {},
   "outputs": [],
   "source": [
    "from string import ascii_uppercase\n",
    "from string import ascii_lowercase\n"
   ]
  },
  {
   "cell_type": "code",
   "execution_count": 11,
   "id": "76f90409",
   "metadata": {},
   "outputs": [],
   "source": [
    "from string import punctuation"
   ]
  },
  {
   "cell_type": "code",
   "execution_count": 6,
   "id": "00c8529d",
   "metadata": {},
   "outputs": [
    {
     "data": {
      "text/plain": [
       "'!\"#$%&\\'()*+,-./:;<=>?@[\\\\]^_`{|}~'"
      ]
     },
     "execution_count": 6,
     "metadata": {},
     "output_type": "execute_result"
    }
   ],
   "source": [
    "punctuation"
   ]
  },
  {
   "cell_type": "code",
   "execution_count": 4,
   "id": "beac3e06",
   "metadata": {},
   "outputs": [],
   "source": [
    "data = {'name':'bernice', 'school':'buruburu', 'home':'Garia'}"
   ]
  },
  {
   "cell_type": "code",
   "execution_count": 5,
   "id": "310b33a6",
   "metadata": {},
   "outputs": [
    {
     "data": {
      "text/plain": [
       "dict_items([('name', 'bernice'), ('school', 'buruburu'), ('home', 'Garia')])"
      ]
     },
     "execution_count": 5,
     "metadata": {},
     "output_type": "execute_result"
    }
   ],
   "source": [
    "data.items()"
   ]
  },
  {
   "cell_type": "code",
   "execution_count": 8,
   "id": "253ef678",
   "metadata": {},
   "outputs": [
    {
     "data": {
      "text/plain": [
       "dict_values"
      ]
     },
     "execution_count": 8,
     "metadata": {},
     "output_type": "execute_result"
    }
   ],
   "source": [
    "data"
   ]
  },
  {
   "cell_type": "code",
   "execution_count": 18,
   "id": "f30adf05",
   "metadata": {},
   "outputs": [],
   "source": [
    "def check_digits(char):\n",
    "    if char in digits:\n",
    "        return True\n",
    "    else:\n",
    "        return False\n",
    "def check_specialcase(char):\n",
    "    if char in punctuation:\n",
    "        return True\n",
    "    else:\n",
    "        return False\n",
    "def check_uppercase(char):\n",
    "    if char in ascii_uppercase:\n",
    "        return True\n",
    "    else:\n",
    "        return False\n",
    "def check_lowercase(char):\n",
    "    if char in ascii_lowercase:\n",
    "        return True\n",
    "    else:\n",
    "        return False\n",
    "    \n",
    "def validate_password_strength(password):\n",
    "    digit = False\n",
    "    special = False\n",
    "    upper = False\n",
    "    lower = False\n",
    "    for char in password:\n",
    "        if check_digits(char):\n",
    "            digit = True\n",
    "        else:\n",
    "            continue\n",
    "    for char in password:\n",
    "        if check_specialcase(char):\n",
    "            special = True\n",
    "        else:\n",
    "            continue\n",
    "    for char in password:\n",
    "        if check_uppercase(char):\n",
    "            upper = True\n",
    "        else:\n",
    "            continue\n",
    "    for char in password:\n",
    "        if check_lowercase(char):\n",
    "            lower = True\n",
    "        else:\n",
    "            continue\n",
    "            \n",
    "    if digit and special and upper and lower:\n",
    "        return True\n",
    "    else:\n",
    "        return False\n",
    "    \n",
    "            \n",
    "        \n",
    "    \n",
    "    "
   ]
  },
  {
   "cell_type": "code",
   "execution_count": 21,
   "id": "b8ab7312",
   "metadata": {},
   "outputs": [
    {
     "data": {
      "text/plain": [
       "True"
      ]
     },
     "execution_count": 21,
     "metadata": {},
     "output_type": "execute_result"
    }
   ],
   "source": [
    "validate_password_strength('Bernice23@')"
   ]
  },
  {
   "cell_type": "code",
   "execution_count": 26,
   "id": "d020608c",
   "metadata": {},
   "outputs": [],
   "source": [
    "from tools import SignUp, LoginUser"
   ]
  },
  {
   "cell_type": "code",
   "execution_count": 24,
   "id": "4c506a6e",
   "metadata": {},
   "outputs": [],
   "source": [
    "user = SignUp('admin', 'admin@epos.com', 'admin', 'admin').create_user()"
   ]
  },
  {
   "cell_type": "code",
   "execution_count": 25,
   "id": "60ce8450",
   "metadata": {},
   "outputs": [
    {
     "data": {
      "text/plain": [
       "True"
      ]
     },
     "execution_count": 25,
     "metadata": {},
     "output_type": "execute_result"
    }
   ],
   "source": [
    "user"
   ]
  },
  {
   "cell_type": "code",
   "execution_count": 27,
   "id": "330b7878",
   "metadata": {},
   "outputs": [],
   "source": [
    "log = LoginUser('admin', 'admin').login()"
   ]
  },
  {
   "cell_type": "code",
   "execution_count": 28,
   "id": "e473030e",
   "metadata": {},
   "outputs": [
    {
     "data": {
      "text/plain": [
       "True"
      ]
     },
     "execution_count": 28,
     "metadata": {},
     "output_type": "execute_result"
    }
   ],
   "source": [
    "log"
   ]
  },
  {
   "cell_type": "code",
   "execution_count": null,
   "id": "375629fe",
   "metadata": {},
   "outputs": [],
   "source": []
  }
 ],
 "metadata": {
  "kernelspec": {
   "display_name": "Python 3 (ipykernel)",
   "language": "python",
   "name": "python3"
  },
  "language_info": {
   "codemirror_mode": {
    "name": "ipython",
    "version": 3
   },
   "file_extension": ".py",
   "mimetype": "text/x-python",
   "name": "python",
   "nbconvert_exporter": "python",
   "pygments_lexer": "ipython3",
   "version": "3.9.7"
  }
 },
 "nbformat": 4,
 "nbformat_minor": 5
}
